{
 "cells": [
  {
   "cell_type": "code",
   "execution_count": 1,
   "metadata": {},
   "outputs": [],
   "source": [
    "import numpy as np\n",
    "import pandas as pd\n",
    "import seaborn as sns\n",
    "import matplotlib.pyplot as plt\n",
    "%matplotlib inline"
   ]
  },
  {
   "cell_type": "code",
   "execution_count": 18,
   "metadata": {},
   "outputs": [
    {
     "name": "stderr",
     "output_type": "stream",
     "text": [
      "Using TensorFlow backend.\n"
     ]
    }
   ],
   "source": [
    "from keras.models import Sequential\n",
    "from keras.layers import Dense\n",
    "from keras.utils import to_categorical"
   ]
  },
  {
   "cell_type": "code",
   "execution_count": 2,
   "metadata": {},
   "outputs": [
    {
     "data": {
      "text/html": [
       "<div>\n",
       "<style scoped>\n",
       "    .dataframe tbody tr th:only-of-type {\n",
       "        vertical-align: middle;\n",
       "    }\n",
       "\n",
       "    .dataframe tbody tr th {\n",
       "        vertical-align: top;\n",
       "    }\n",
       "\n",
       "    .dataframe thead th {\n",
       "        text-align: right;\n",
       "    }\n",
       "</style>\n",
       "<table border=\"1\" class=\"dataframe\">\n",
       "  <thead>\n",
       "    <tr style=\"text-align: right;\">\n",
       "      <th></th>\n",
       "      <th>Species</th>\n",
       "      <th>Weight</th>\n",
       "      <th>Length1</th>\n",
       "      <th>Length2</th>\n",
       "      <th>Length3</th>\n",
       "      <th>Height</th>\n",
       "      <th>Width</th>\n",
       "    </tr>\n",
       "  </thead>\n",
       "  <tbody>\n",
       "    <tr>\n",
       "      <th>0</th>\n",
       "      <td>Bream</td>\n",
       "      <td>242.0</td>\n",
       "      <td>23.2</td>\n",
       "      <td>25.4</td>\n",
       "      <td>30.0</td>\n",
       "      <td>11.5200</td>\n",
       "      <td>4.0200</td>\n",
       "    </tr>\n",
       "    <tr>\n",
       "      <th>1</th>\n",
       "      <td>Bream</td>\n",
       "      <td>290.0</td>\n",
       "      <td>24.0</td>\n",
       "      <td>26.3</td>\n",
       "      <td>31.2</td>\n",
       "      <td>12.4800</td>\n",
       "      <td>4.3056</td>\n",
       "    </tr>\n",
       "    <tr>\n",
       "      <th>2</th>\n",
       "      <td>Bream</td>\n",
       "      <td>340.0</td>\n",
       "      <td>23.9</td>\n",
       "      <td>26.5</td>\n",
       "      <td>31.1</td>\n",
       "      <td>12.3778</td>\n",
       "      <td>4.6961</td>\n",
       "    </tr>\n",
       "    <tr>\n",
       "      <th>3</th>\n",
       "      <td>Bream</td>\n",
       "      <td>363.0</td>\n",
       "      <td>26.3</td>\n",
       "      <td>29.0</td>\n",
       "      <td>33.5</td>\n",
       "      <td>12.7300</td>\n",
       "      <td>4.4555</td>\n",
       "    </tr>\n",
       "    <tr>\n",
       "      <th>4</th>\n",
       "      <td>Bream</td>\n",
       "      <td>430.0</td>\n",
       "      <td>26.5</td>\n",
       "      <td>29.0</td>\n",
       "      <td>34.0</td>\n",
       "      <td>12.4440</td>\n",
       "      <td>5.1340</td>\n",
       "    </tr>\n",
       "  </tbody>\n",
       "</table>\n",
       "</div>"
      ],
      "text/plain": [
       "  Species  Weight  Length1  Length2  Length3   Height   Width\n",
       "0   Bream   242.0     23.2     25.4     30.0  11.5200  4.0200\n",
       "1   Bream   290.0     24.0     26.3     31.2  12.4800  4.3056\n",
       "2   Bream   340.0     23.9     26.5     31.1  12.3778  4.6961\n",
       "3   Bream   363.0     26.3     29.0     33.5  12.7300  4.4555\n",
       "4   Bream   430.0     26.5     29.0     34.0  12.4440  5.1340"
      ]
     },
     "execution_count": 2,
     "metadata": {},
     "output_type": "execute_result"
    }
   ],
   "source": [
    "df = pd.read_csv('D:\\\\fish.csv')\n",
    "df.head()"
   ]
  },
  {
   "cell_type": "code",
   "execution_count": 3,
   "metadata": {},
   "outputs": [
    {
     "data": {
      "text/plain": [
       "(159, 7)"
      ]
     },
     "execution_count": 3,
     "metadata": {},
     "output_type": "execute_result"
    }
   ],
   "source": [
    "df.shape"
   ]
  },
  {
   "cell_type": "code",
   "execution_count": 4,
   "metadata": {},
   "outputs": [
    {
     "data": {
      "text/html": [
       "<div>\n",
       "<style scoped>\n",
       "    .dataframe tbody tr th:only-of-type {\n",
       "        vertical-align: middle;\n",
       "    }\n",
       "\n",
       "    .dataframe tbody tr th {\n",
       "        vertical-align: top;\n",
       "    }\n",
       "\n",
       "    .dataframe thead th {\n",
       "        text-align: right;\n",
       "    }\n",
       "</style>\n",
       "<table border=\"1\" class=\"dataframe\">\n",
       "  <thead>\n",
       "    <tr style=\"text-align: right;\">\n",
       "      <th></th>\n",
       "      <th>Weight</th>\n",
       "      <th>Length1</th>\n",
       "      <th>Length2</th>\n",
       "      <th>Length3</th>\n",
       "      <th>Height</th>\n",
       "      <th>Width</th>\n",
       "    </tr>\n",
       "  </thead>\n",
       "  <tbody>\n",
       "    <tr>\n",
       "      <th>count</th>\n",
       "      <td>159.000000</td>\n",
       "      <td>159.000000</td>\n",
       "      <td>159.000000</td>\n",
       "      <td>159.000000</td>\n",
       "      <td>159.000000</td>\n",
       "      <td>159.000000</td>\n",
       "    </tr>\n",
       "    <tr>\n",
       "      <th>mean</th>\n",
       "      <td>398.326415</td>\n",
       "      <td>26.247170</td>\n",
       "      <td>28.415723</td>\n",
       "      <td>31.227044</td>\n",
       "      <td>8.970994</td>\n",
       "      <td>4.417486</td>\n",
       "    </tr>\n",
       "    <tr>\n",
       "      <th>std</th>\n",
       "      <td>357.978317</td>\n",
       "      <td>9.996441</td>\n",
       "      <td>10.716328</td>\n",
       "      <td>11.610246</td>\n",
       "      <td>4.286208</td>\n",
       "      <td>1.685804</td>\n",
       "    </tr>\n",
       "    <tr>\n",
       "      <th>min</th>\n",
       "      <td>0.000000</td>\n",
       "      <td>7.500000</td>\n",
       "      <td>8.400000</td>\n",
       "      <td>8.800000</td>\n",
       "      <td>1.728400</td>\n",
       "      <td>1.047600</td>\n",
       "    </tr>\n",
       "    <tr>\n",
       "      <th>25%</th>\n",
       "      <td>120.000000</td>\n",
       "      <td>19.050000</td>\n",
       "      <td>21.000000</td>\n",
       "      <td>23.150000</td>\n",
       "      <td>5.944800</td>\n",
       "      <td>3.385650</td>\n",
       "    </tr>\n",
       "    <tr>\n",
       "      <th>50%</th>\n",
       "      <td>273.000000</td>\n",
       "      <td>25.200000</td>\n",
       "      <td>27.300000</td>\n",
       "      <td>29.400000</td>\n",
       "      <td>7.786000</td>\n",
       "      <td>4.248500</td>\n",
       "    </tr>\n",
       "    <tr>\n",
       "      <th>75%</th>\n",
       "      <td>650.000000</td>\n",
       "      <td>32.700000</td>\n",
       "      <td>35.500000</td>\n",
       "      <td>39.650000</td>\n",
       "      <td>12.365900</td>\n",
       "      <td>5.584500</td>\n",
       "    </tr>\n",
       "    <tr>\n",
       "      <th>max</th>\n",
       "      <td>1650.000000</td>\n",
       "      <td>59.000000</td>\n",
       "      <td>63.400000</td>\n",
       "      <td>68.000000</td>\n",
       "      <td>18.957000</td>\n",
       "      <td>8.142000</td>\n",
       "    </tr>\n",
       "  </tbody>\n",
       "</table>\n",
       "</div>"
      ],
      "text/plain": [
       "            Weight     Length1     Length2     Length3      Height       Width\n",
       "count   159.000000  159.000000  159.000000  159.000000  159.000000  159.000000\n",
       "mean    398.326415   26.247170   28.415723   31.227044    8.970994    4.417486\n",
       "std     357.978317    9.996441   10.716328   11.610246    4.286208    1.685804\n",
       "min       0.000000    7.500000    8.400000    8.800000    1.728400    1.047600\n",
       "25%     120.000000   19.050000   21.000000   23.150000    5.944800    3.385650\n",
       "50%     273.000000   25.200000   27.300000   29.400000    7.786000    4.248500\n",
       "75%     650.000000   32.700000   35.500000   39.650000   12.365900    5.584500\n",
       "max    1650.000000   59.000000   63.400000   68.000000   18.957000    8.142000"
      ]
     },
     "execution_count": 4,
     "metadata": {},
     "output_type": "execute_result"
    }
   ],
   "source": [
    "df.describe()"
   ]
  },
  {
   "cell_type": "code",
   "execution_count": 5,
   "metadata": {},
   "outputs": [
    {
     "name": "stdout",
     "output_type": "stream",
     "text": [
      "<class 'pandas.core.frame.DataFrame'>\n",
      "RangeIndex: 159 entries, 0 to 158\n",
      "Data columns (total 7 columns):\n",
      " #   Column   Non-Null Count  Dtype  \n",
      "---  ------   --------------  -----  \n",
      " 0   Species  159 non-null    object \n",
      " 1   Weight   159 non-null    float64\n",
      " 2   Length1  159 non-null    float64\n",
      " 3   Length2  159 non-null    float64\n",
      " 4   Length3  159 non-null    float64\n",
      " 5   Height   159 non-null    float64\n",
      " 6   Width    159 non-null    float64\n",
      "dtypes: float64(6), object(1)\n",
      "memory usage: 8.8+ KB\n"
     ]
    }
   ],
   "source": [
    "df.info()"
   ]
  },
  {
   "cell_type": "code",
   "execution_count": 6,
   "metadata": {},
   "outputs": [],
   "source": [
    "temp = pd.DataFrame(index=df.columns)\n",
    "temp['data_type'] = df.dtypes\n",
    "temp['null_count'] = df.isnull().sum()\n",
    "temp['unique_count'] = df.nunique()"
   ]
  },
  {
   "cell_type": "code",
   "execution_count": 7,
   "metadata": {},
   "outputs": [
    {
     "data": {
      "text/html": [
       "<div>\n",
       "<style scoped>\n",
       "    .dataframe tbody tr th:only-of-type {\n",
       "        vertical-align: middle;\n",
       "    }\n",
       "\n",
       "    .dataframe tbody tr th {\n",
       "        vertical-align: top;\n",
       "    }\n",
       "\n",
       "    .dataframe thead th {\n",
       "        text-align: right;\n",
       "    }\n",
       "</style>\n",
       "<table border=\"1\" class=\"dataframe\">\n",
       "  <thead>\n",
       "    <tr style=\"text-align: right;\">\n",
       "      <th></th>\n",
       "      <th>data_type</th>\n",
       "      <th>null_count</th>\n",
       "      <th>unique_count</th>\n",
       "    </tr>\n",
       "  </thead>\n",
       "  <tbody>\n",
       "    <tr>\n",
       "      <th>Species</th>\n",
       "      <td>object</td>\n",
       "      <td>0</td>\n",
       "      <td>7</td>\n",
       "    </tr>\n",
       "    <tr>\n",
       "      <th>Weight</th>\n",
       "      <td>float64</td>\n",
       "      <td>0</td>\n",
       "      <td>101</td>\n",
       "    </tr>\n",
       "    <tr>\n",
       "      <th>Length1</th>\n",
       "      <td>float64</td>\n",
       "      <td>0</td>\n",
       "      <td>116</td>\n",
       "    </tr>\n",
       "    <tr>\n",
       "      <th>Length2</th>\n",
       "      <td>float64</td>\n",
       "      <td>0</td>\n",
       "      <td>93</td>\n",
       "    </tr>\n",
       "    <tr>\n",
       "      <th>Length3</th>\n",
       "      <td>float64</td>\n",
       "      <td>0</td>\n",
       "      <td>124</td>\n",
       "    </tr>\n",
       "    <tr>\n",
       "      <th>Height</th>\n",
       "      <td>float64</td>\n",
       "      <td>0</td>\n",
       "      <td>154</td>\n",
       "    </tr>\n",
       "    <tr>\n",
       "      <th>Width</th>\n",
       "      <td>float64</td>\n",
       "      <td>0</td>\n",
       "      <td>152</td>\n",
       "    </tr>\n",
       "  </tbody>\n",
       "</table>\n",
       "</div>"
      ],
      "text/plain": [
       "        data_type  null_count  unique_count\n",
       "Species    object           0             7\n",
       "Weight    float64           0           101\n",
       "Length1   float64           0           116\n",
       "Length2   float64           0            93\n",
       "Length3   float64           0           124\n",
       "Height    float64           0           154\n",
       "Width     float64           0           152"
      ]
     },
     "execution_count": 7,
     "metadata": {},
     "output_type": "execute_result"
    }
   ],
   "source": [
    "temp"
   ]
  },
  {
   "cell_type": "code",
   "execution_count": 8,
   "metadata": {},
   "outputs": [
    {
     "data": {
      "text/plain": [
       "(159, 7)"
      ]
     },
     "execution_count": 8,
     "metadata": {},
     "output_type": "execute_result"
    }
   ],
   "source": [
    "df = df.drop_duplicates()\n",
    "df.shape"
   ]
  },
  {
   "cell_type": "code",
   "execution_count": 9,
   "metadata": {},
   "outputs": [
    {
     "data": {
      "text/plain": [
       "<matplotlib.axes._subplots.AxesSubplot at 0x21a7f2cbc08>"
      ]
     },
     "execution_count": 9,
     "metadata": {},
     "output_type": "execute_result"
    },
    {
     "data": {
      "image/png": "[encoded data removed]",
      "text/plain": [
       "<Figure size 432x288 with 1 Axes>"
      ]
     },
     "metadata": {
      "needs_background": "light"
     },
     "output_type": "display_data"
    }
   ],
   "source": [
    "sns.countplot(x='Species',data=df)"
   ]
  },
  {
   "cell_type": "code",
   "execution_count": 10,
   "metadata": {},
   "outputs": [
    {
     "data": {
      "text/plain": [
       "<matplotlib.axes._subplots.AxesSubplot at 0x21a7fac2ac8>"
      ]
     },
     "execution_count": 10,
     "metadata": {},
     "output_type": "execute_result"
    },
    {
     "data": {
      "image/png": "[encoded data removed]",
      "text/plain": [
       "<Figure size 432x288 with 1 Axes>"
      ]
     },
     "metadata": {
      "needs_background": "light"
     },
     "output_type": "display_data"
    }
   ],
   "source": [
    "df.groupby('Species')['Weight'].mean().plot.bar()"
   ]
  },
  {
   "cell_type": "code",
   "execution_count": 11,
   "metadata": {},
   "outputs": [
    {
     "data": {
      "text/plain": [
       "<matplotlib.axes._subplots.AxesSubplot at 0x21a7fb58708>"
      ]
     },
     "execution_count": 11,
     "metadata": {},
     "output_type": "execute_result"
    },
    {
     "data": {
      "image/png": "[encoded data removed]",
      "text/plain": [
       "<Figure size 432x288 with 1 Axes>"
      ]
     },
     "metadata": {
      "needs_background": "light"
     },
     "output_type": "display_data"
    }
   ],
   "source": [
    "df.groupby('Species')['Length1'].mean().plot.bar()"
   ]
  },
  {
   "cell_type": "code",
   "execution_count": 12,
   "metadata": {},
   "outputs": [
    {
     "data": {
      "text/plain": [
       "<matplotlib.axes._subplots.AxesSubplot at 0x21a7fbca908>"
      ]
     },
     "execution_count": 12,
     "metadata": {},
     "output_type": "execute_result"
    },
    {
     "data": {
      "image/png": "[encoded data removed]",
      "text/plain": [
       "<Figure size 432x288 with 1 Axes>"
      ]
     },
     "metadata": {
      "needs_background": "light"
     },
     "output_type": "display_data"
    }
   ],
   "source": [
    "df.groupby('Species')['Length2'].mean().plot.bar()"
   ]
  },
  {
   "cell_type": "code",
   "execution_count": 13,
   "metadata": {},
   "outputs": [
    {
     "data": {
      "text/plain": [
       "<matplotlib.axes._subplots.AxesSubplot at 0x21a7fc33b08>"
      ]
     },
     "execution_count": 13,
     "metadata": {},
     "output_type": "execute_result"
    },
    {
     "data": {
      "image/png": "[encoded data removed]",
      "text/plain": [
       "<Figure size 432x288 with 1 Axes>"
      ]
     },
     "metadata": {
      "needs_background": "light"
     },
     "output_type": "display_data"
    }
   ],
   "source": [
    "df.groupby('Species')['Length3'].mean().plot.bar()"
   ]
  },
  {
   "cell_type": "code",
   "execution_count": 14,
   "metadata": {},
   "outputs": [
    {
     "data": {
      "text/plain": [
       "<matplotlib.axes._subplots.AxesSubplot at 0x21a7fcb4148>"
      ]
     },
     "execution_count": 14,
     "metadata": {},
     "output_type": "execute_result"
    },
    {
     "data": {
      "image/png": "[encoded data removed]",
      "text/plain": [
       "<Figure size 432x288 with 1 Axes>"
      ]
     },
     "metadata": {
      "needs_background": "light"
     },
     "output_type": "display_data"
    }
   ],
   "source": [
    "df.groupby('Species')['Height'].mean().plot.bar()"
   ]
  },
  {
   "cell_type": "code",
   "execution_count": 15,
   "metadata": {},
   "outputs": [
    {
     "data": {
      "text/plain": [
       "<matplotlib.axes._subplots.AxesSubplot at 0x21a7fd2e388>"
      ]
     },
     "execution_count": 15,
     "metadata": {},
     "output_type": "execute_result"
    },
    {
     "data": {
      "image/png": "[encoded data removed]",
      "text/plain": [
       "<Figure size 432x288 with 1 Axes>"
      ]
     },
     "metadata": {
      "needs_background": "light"
     },
     "output_type": "display_data"
    }
   ],
   "source": [
    "df.groupby('Species')['Width'].mean().plot.bar()"
   ]
  },
  {
   "cell_type": "code",
   "execution_count": 16,
   "metadata": {},
   "outputs": [
    {
     "data": {
      "text/plain": [
       "['Species', 'Weight', 'Length1', 'Length2', 'Length3', 'Height', 'Width']"
      ]
     },
     "execution_count": 16,
     "metadata": {},
     "output_type": "execute_result"
    }
   ],
   "source": [
    "col = list( df.columns )\n",
    "col"
   ]
  },
  {
   "cell_type": "code",
   "execution_count": 26,
   "metadata": {},
   "outputs": [
    {
     "data": {
      "text/html": [
       "<div>\n",
       "<style scoped>\n",
       "    .dataframe tbody tr th:only-of-type {\n",
       "        vertical-align: middle;\n",
       "    }\n",
       "\n",
       "    .dataframe tbody tr th {\n",
       "        vertical-align: top;\n",
       "    }\n",
       "\n",
       "    .dataframe thead th {\n",
       "        text-align: right;\n",
       "    }\n",
       "</style>\n",
       "<table border=\"1\" class=\"dataframe\">\n",
       "  <thead>\n",
       "    <tr style=\"text-align: right;\">\n",
       "      <th></th>\n",
       "      <th>Weight</th>\n",
       "      <th>Length1</th>\n",
       "      <th>Length2</th>\n",
       "      <th>Length3</th>\n",
       "      <th>Height</th>\n",
       "      <th>Width</th>\n",
       "    </tr>\n",
       "  </thead>\n",
       "  <tbody>\n",
       "    <tr>\n",
       "      <th>0</th>\n",
       "      <td>242.0</td>\n",
       "      <td>23.2</td>\n",
       "      <td>25.4</td>\n",
       "      <td>30.0</td>\n",
       "      <td>11.5200</td>\n",
       "      <td>4.0200</td>\n",
       "    </tr>\n",
       "    <tr>\n",
       "      <th>1</th>\n",
       "      <td>290.0</td>\n",
       "      <td>24.0</td>\n",
       "      <td>26.3</td>\n",
       "      <td>31.2</td>\n",
       "      <td>12.4800</td>\n",
       "      <td>4.3056</td>\n",
       "    </tr>\n",
       "    <tr>\n",
       "      <th>2</th>\n",
       "      <td>340.0</td>\n",
       "      <td>23.9</td>\n",
       "      <td>26.5</td>\n",
       "      <td>31.1</td>\n",
       "      <td>12.3778</td>\n",
       "      <td>4.6961</td>\n",
       "    </tr>\n",
       "    <tr>\n",
       "      <th>3</th>\n",
       "      <td>363.0</td>\n",
       "      <td>26.3</td>\n",
       "      <td>29.0</td>\n",
       "      <td>33.5</td>\n",
       "      <td>12.7300</td>\n",
       "      <td>4.4555</td>\n",
       "    </tr>\n",
       "    <tr>\n",
       "      <th>4</th>\n",
       "      <td>430.0</td>\n",
       "      <td>26.5</td>\n",
       "      <td>29.0</td>\n",
       "      <td>34.0</td>\n",
       "      <td>12.4440</td>\n",
       "      <td>5.1340</td>\n",
       "    </tr>\n",
       "  </tbody>\n",
       "</table>\n",
       "</div>"
      ],
      "text/plain": [
       "   Weight  Length1  Length2  Length3   Height   Width\n",
       "0   242.0     23.2     25.4     30.0  11.5200  4.0200\n",
       "1   290.0     24.0     26.3     31.2  12.4800  4.3056\n",
       "2   340.0     23.9     26.5     31.1  12.3778  4.6961\n",
       "3   363.0     26.3     29.0     33.5  12.7300  4.4555\n",
       "4   430.0     26.5     29.0     34.0  12.4440  5.1340"
      ]
     },
     "execution_count": 26,
     "metadata": {},
     "output_type": "execute_result"
    }
   ],
   "source": [
    "X = df[col[1:]]\n",
    "X[0:5]"
   ]
  },
  {
   "cell_type": "code",
   "execution_count": 38,
   "metadata": {},
   "outputs": [
    {
     "data": {
      "text/plain": [
       "0    Bream\n",
       "1    Bream\n",
       "2    Bream\n",
       "3    Bream\n",
       "4    Bream\n",
       "Name: Species, dtype: object"
      ]
     },
     "execution_count": 38,
     "metadata": {},
     "output_type": "execute_result"
    }
   ],
   "source": [
    "Y = (df[col[0]])\n",
    "Y[0:5]"
   ]
  },
  {
   "cell_type": "code",
   "execution_count": 39,
   "metadata": {},
   "outputs": [],
   "source": [
    "Y = pd.get_dummies( Y )"
   ]
  },
  {
   "cell_type": "code",
   "execution_count": 40,
   "metadata": {},
   "outputs": [],
   "source": [
    "from sklearn.preprocessing import StandardScaler"
   ]
  },
  {
   "cell_type": "code",
   "execution_count": 41,
   "metadata": {},
   "outputs": [
    {
     "data": {
      "text/plain": [
       "array([[-0.43807217, -0.30578858, -0.28230301, -0.10602023,  0.59657867,\n",
       "        -0.23652895],\n",
       "       [-0.30356218, -0.22550724, -0.19805366, -0.00233668,  0.82126055,\n",
       "        -0.06657895],\n",
       "       [-0.16344761, -0.23554241, -0.17933159, -0.01097698,  0.79734129,\n",
       "         0.16579317],\n",
       "       [-0.09899491,  0.0053016 ,  0.05469437,  0.19639012,  0.87977146,\n",
       "         0.022621  ],\n",
       "       [ 0.08875862,  0.02537193,  0.05469437,  0.23959159,  0.81283498,\n",
       "         0.42637127]])"
      ]
     },
     "execution_count": 41,
     "metadata": {},
     "output_type": "execute_result"
    }
   ],
   "source": [
    "X = StandardScaler().fit_transform(X)\n",
    "X[0:5]"
   ]
  },
  {
   "cell_type": "code",
   "execution_count": 50,
   "metadata": {},
   "outputs": [],
   "source": [
    "from sklearn.model_selection import train_test_split"
   ]
  },
  {
   "cell_type": "code",
   "execution_count": 58,
   "metadata": {},
   "outputs": [],
   "source": [
    "x_train , x_test , y_train , y_test = train_test_split( X ,Y , test_size = 0.2, random_state = 10)"
   ]
  },
  {
   "cell_type": "code",
   "execution_count": 80,
   "metadata": {},
   "outputs": [],
   "source": [
    "def classification_model():\n",
    "    model = Sequential()\n",
    "    model.add(Dense(50,activation='relu',input_shape=(x_test.shape[1],)))\n",
    "    model.add(Dense(100,activation='relu'))\n",
    "    model.add(Dense(100,activation='relu'))\n",
    "    model.add(Dense(200,activation='relu'))\n",
    "    model.add(Dense(y_test.shape[1],activation='softmax'))\n",
    "    model.compile(optimizer='adam',loss='categorical_crossentropy',metrics=['accuracy'])\n",
    "    return model"
   ]
  },
  {
   "cell_type": "code",
   "execution_count": 81,
   "metadata": {},
   "outputs": [],
   "source": [
    "model = classification_model()"
   ]
  },
  {
   "cell_type": "code",
   "execution_count": 82,
   "metadata": {},
   "outputs": [
    {
     "name": "stdout",
     "output_type": "stream",
     "text": [
      "Train on 127 samples, validate on 32 samples\n",
      "Epoch 1/200\n",
      " - 0s - loss: 1.9200 - accuracy: 0.2677 - val_loss: 1.8675 - val_accuracy: 0.4688\n",
      "Epoch 2/200\n",
      " - 0s - loss: 1.7516 - accuracy: 0.5512 - val_loss: 1.7973 - val_accuracy: 0.3438\n",
      "Epoch 3/200\n",
      " - 0s - loss: 1.6129 - accuracy: 0.3780 - val_loss: 1.7297 - val_accuracy: 0.2812\n",
      "Epoch 4/200\n",
      " - 0s - loss: 1.4763 - accuracy: 0.4646 - val_loss: 1.6446 - val_accuracy: 0.4688\n",
      "Epoch 5/200\n",
      " - 0s - loss: 1.3341 - accuracy: 0.6299 - val_loss: 1.5588 - val_accuracy: 0.5000\n",
      "Epoch 6/200\n",
      " - 0s - loss: 1.2022 - accuracy: 0.6929 - val_loss: 1.4547 - val_accuracy: 0.5000\n",
      "Epoch 7/200\n",
      " - 0s - loss: 1.0900 - accuracy: 0.7244 - val_loss: 1.3450 - val_accuracy: 0.5938\n",
      "Epoch 8/200\n",
      " - 0s - loss: 0.9772 - accuracy: 0.7402 - val_loss: 1.2719 - val_accuracy: 0.5312\n",
      "Epoch 9/200\n",
      " - 0s - loss: 0.8841 - accuracy: 0.7717 - val_loss: 1.1856 - val_accuracy: 0.5938\n",
      "Epoch 10/200\n",
      " - 0s - loss: 0.8053 - accuracy: 0.7638 - val_loss: 1.1028 - val_accuracy: 0.5938\n",
      "Epoch 11/200\n",
      " - 0s - loss: 0.7454 - accuracy: 0.7717 - val_loss: 1.0294 - val_accuracy: 0.6562\n",
      "Epoch 12/200\n",
      " - 0s - loss: 0.6789 - accuracy: 0.7795 - val_loss: 1.0094 - val_accuracy: 0.5625\n",
      "Epoch 13/200\n",
      " - 0s - loss: 0.6353 - accuracy: 0.7717 - val_loss: 0.9026 - val_accuracy: 0.7500\n",
      "Epoch 14/200\n",
      " - 0s - loss: 0.5912 - accuracy: 0.8110 - val_loss: 0.8344 - val_accuracy: 0.7500\n",
      "Epoch 15/200\n",
      " - 0s - loss: 0.5368 - accuracy: 0.8031 - val_loss: 0.8154 - val_accuracy: 0.7188\n",
      "Epoch 16/200\n",
      " - 0s - loss: 0.4958 - accuracy: 0.8110 - val_loss: 0.7442 - val_accuracy: 0.7500\n",
      "Epoch 17/200\n",
      " - 0s - loss: 0.4535 - accuracy: 0.8268 - val_loss: 0.7327 - val_accuracy: 0.7188\n",
      "Epoch 18/200\n",
      " - 0s - loss: 0.4244 - accuracy: 0.8189 - val_loss: 0.6914 - val_accuracy: 0.7188\n",
      "Epoch 19/200\n",
      " - 0s - loss: 0.4144 - accuracy: 0.8189 - val_loss: 0.6649 - val_accuracy: 0.7188\n",
      "Epoch 20/200\n",
      " - 0s - loss: 0.3835 - accuracy: 0.8189 - val_loss: 0.6201 - val_accuracy: 0.7500\n",
      "Epoch 21/200\n",
      " - 0s - loss: 0.3732 - accuracy: 0.8189 - val_loss: 0.6675 - val_accuracy: 0.7188\n",
      "Epoch 22/200\n",
      " - 0s - loss: 0.3416 - accuracy: 0.8425 - val_loss: 0.5965 - val_accuracy: 0.7188\n",
      "Epoch 23/200\n",
      " - 0s - loss: 0.3395 - accuracy: 0.8583 - val_loss: 0.5917 - val_accuracy: 0.7188\n",
      "Epoch 24/200\n",
      " - 0s - loss: 0.3295 - accuracy: 0.8189 - val_loss: 0.6163 - val_accuracy: 0.7500\n",
      "Epoch 25/200\n",
      " - 0s - loss: 0.3006 - accuracy: 0.8425 - val_loss: 0.5550 - val_accuracy: 0.7500\n",
      "Epoch 26/200\n",
      " - 0s - loss: 0.2907 - accuracy: 0.8504 - val_loss: 0.5894 - val_accuracy: 0.7500\n",
      "Epoch 27/200\n",
      " - 0s - loss: 0.2810 - accuracy: 0.8583 - val_loss: 0.5848 - val_accuracy: 0.7188\n",
      "Epoch 28/200\n",
      " - 0s - loss: 0.2712 - accuracy: 0.8504 - val_loss: 0.5717 - val_accuracy: 0.7500\n",
      "Epoch 29/200\n",
      " - 0s - loss: 0.2578 - accuracy: 0.8661 - val_loss: 0.5961 - val_accuracy: 0.7188\n",
      "Epoch 30/200\n",
      " - 0s - loss: 0.2612 - accuracy: 0.8740 - val_loss: 0.5644 - val_accuracy: 0.7188\n",
      "Epoch 31/200\n",
      " - 0s - loss: 0.2515 - accuracy: 0.8661 - val_loss: 0.6129 - val_accuracy: 0.7188\n",
      "Epoch 32/200\n",
      " - 0s - loss: 0.2366 - accuracy: 0.9213 - val_loss: 0.5281 - val_accuracy: 0.7188\n",
      "Epoch 33/200\n",
      " - 0s - loss: 0.2300 - accuracy: 0.9134 - val_loss: 0.5972 - val_accuracy: 0.7188\n",
      "Epoch 34/200\n",
      " - 0s - loss: 0.2185 - accuracy: 0.9055 - val_loss: 0.5451 - val_accuracy: 0.7500\n",
      "Epoch 35/200\n",
      " - 0s - loss: 0.2216 - accuracy: 0.9213 - val_loss: 0.5653 - val_accuracy: 0.7500\n",
      "Epoch 36/200\n",
      " - 0s - loss: 0.1969 - accuracy: 0.9213 - val_loss: 0.6360 - val_accuracy: 0.7500\n",
      "Epoch 37/200\n",
      " - 0s - loss: 0.2086 - accuracy: 0.8976 - val_loss: 0.5496 - val_accuracy: 0.7500\n",
      "Epoch 38/200\n",
      " - 0s - loss: 0.1955 - accuracy: 0.9213 - val_loss: 0.5318 - val_accuracy: 0.7188\n",
      "Epoch 39/200\n",
      " - 0s - loss: 0.1930 - accuracy: 0.9291 - val_loss: 0.6311 - val_accuracy: 0.7500\n",
      "Epoch 40/200\n",
      " - 0s - loss: 0.1903 - accuracy: 0.8976 - val_loss: 0.6021 - val_accuracy: 0.7500\n",
      "Epoch 41/200\n",
      " - 0s - loss: 0.1790 - accuracy: 0.9134 - val_loss: 0.5188 - val_accuracy: 0.7500\n",
      "Epoch 42/200\n",
      " - 0s - loss: 0.1800 - accuracy: 0.9291 - val_loss: 0.6364 - val_accuracy: 0.7188\n",
      "Epoch 43/200\n",
      " - 0s - loss: 0.1913 - accuracy: 0.8976 - val_loss: 0.6551 - val_accuracy: 0.7500\n",
      "Epoch 44/200\n",
      " - 0s - loss: 0.1854 - accuracy: 0.8976 - val_loss: 0.4756 - val_accuracy: 0.7500\n",
      "Epoch 45/200\n",
      " - 0s - loss: 0.1684 - accuracy: 0.9291 - val_loss: 0.6387 - val_accuracy: 0.7500\n",
      "Epoch 46/200\n",
      " - 0s - loss: 0.1580 - accuracy: 0.9291 - val_loss: 0.5490 - val_accuracy: 0.7500\n",
      "Epoch 47/200\n",
      " - 0s - loss: 0.1721 - accuracy: 0.9291 - val_loss: 0.5621 - val_accuracy: 0.7500\n",
      "Epoch 48/200\n",
      " - 0s - loss: 0.1466 - accuracy: 0.9370 - val_loss: 0.7001 - val_accuracy: 0.7500\n",
      "Epoch 49/200\n",
      " - 0s - loss: 0.1565 - accuracy: 0.9370 - val_loss: 0.5197 - val_accuracy: 0.7500\n",
      "Epoch 50/200\n",
      " - 0s - loss: 0.1538 - accuracy: 0.9291 - val_loss: 0.5598 - val_accuracy: 0.7188\n",
      "Epoch 51/200\n",
      " - 0s - loss: 0.1493 - accuracy: 0.9449 - val_loss: 0.6457 - val_accuracy: 0.7500\n",
      "Epoch 52/200\n",
      " - 0s - loss: 0.1378 - accuracy: 0.9370 - val_loss: 0.5047 - val_accuracy: 0.7812\n",
      "Epoch 53/200\n",
      " - 0s - loss: 0.1515 - accuracy: 0.9370 - val_loss: 0.6227 - val_accuracy: 0.7500\n",
      "Epoch 54/200\n",
      " - 0s - loss: 0.1546 - accuracy: 0.9134 - val_loss: 0.6983 - val_accuracy: 0.7500\n",
      "Epoch 55/200\n",
      " - 0s - loss: 0.1340 - accuracy: 0.9291 - val_loss: 0.4227 - val_accuracy: 0.8125\n",
      "Epoch 56/200\n",
      " - 0s - loss: 0.1428 - accuracy: 0.9449 - val_loss: 0.7293 - val_accuracy: 0.7500\n",
      "Epoch 57/200\n",
      " - 0s - loss: 0.1583 - accuracy: 0.9213 - val_loss: 0.6091 - val_accuracy: 0.7500\n",
      "Epoch 58/200\n",
      " - 0s - loss: 0.1495 - accuracy: 0.9449 - val_loss: 0.4272 - val_accuracy: 0.7812\n",
      "Epoch 59/200\n",
      " - 0s - loss: 0.1654 - accuracy: 0.9291 - val_loss: 0.9069 - val_accuracy: 0.7500\n",
      "Epoch 60/200\n",
      " - 0s - loss: 0.1424 - accuracy: 0.9291 - val_loss: 0.4870 - val_accuracy: 0.7812\n",
      "Epoch 61/200\n",
      " - 0s - loss: 0.1278 - accuracy: 0.9528 - val_loss: 0.5929 - val_accuracy: 0.7500\n",
      "Epoch 62/200\n",
      " - 0s - loss: 0.1189 - accuracy: 0.9685 - val_loss: 0.6311 - val_accuracy: 0.7500\n",
      "Epoch 63/200\n",
      " - 0s - loss: 0.1128 - accuracy: 0.9606 - val_loss: 0.5956 - val_accuracy: 0.7500\n",
      "Epoch 64/200\n",
      " - 0s - loss: 0.1077 - accuracy: 0.9528 - val_loss: 0.5727 - val_accuracy: 0.7500\n",
      "Epoch 65/200\n",
      " - 0s - loss: 0.1054 - accuracy: 0.9528 - val_loss: 0.5943 - val_accuracy: 0.7500\n",
      "Epoch 66/200\n",
      " - 0s - loss: 0.1035 - accuracy: 0.9606 - val_loss: 0.5819 - val_accuracy: 0.7500\n",
      "Epoch 67/200\n",
      " - 0s - loss: 0.1031 - accuracy: 0.9606 - val_loss: 0.5880 - val_accuracy: 0.7500\n",
      "Epoch 68/200\n",
      " - 0s - loss: 0.1104 - accuracy: 0.9370 - val_loss: 0.6296 - val_accuracy: 0.7500\n",
      "Epoch 69/200\n",
      " - 0s - loss: 0.1080 - accuracy: 0.9606 - val_loss: 0.4956 - val_accuracy: 0.7812\n",
      "Epoch 70/200\n",
      " - 0s - loss: 0.1242 - accuracy: 0.9213 - val_loss: 0.6292 - val_accuracy: 0.7500\n",
      "Epoch 71/200\n",
      " - 0s - loss: 0.1148 - accuracy: 0.9449 - val_loss: 0.4798 - val_accuracy: 0.8438\n",
      "Epoch 72/200\n",
      " - 0s - loss: 0.1031 - accuracy: 0.9449 - val_loss: 0.7599 - val_accuracy: 0.7500\n",
      "Epoch 73/200\n",
      " - 0s - loss: 0.1066 - accuracy: 0.9528 - val_loss: 0.5029 - val_accuracy: 0.7812\n",
      "Epoch 74/200\n",
      " - 0s - loss: 0.1100 - accuracy: 0.9528 - val_loss: 0.6258 - val_accuracy: 0.7812\n",
      "Epoch 75/200\n",
      " - 0s - loss: 0.1322 - accuracy: 0.9291 - val_loss: 0.5755 - val_accuracy: 0.7812\n",
      "Epoch 76/200\n",
      " - 0s - loss: 0.1683 - accuracy: 0.9134 - val_loss: 0.5464 - val_accuracy: 0.8125\n",
      "Epoch 77/200\n",
      " - 0s - loss: 0.2119 - accuracy: 0.8976 - val_loss: 0.8786 - val_accuracy: 0.7500\n",
      "Epoch 78/200\n",
      " - 0s - loss: 0.1246 - accuracy: 0.9528 - val_loss: 0.3758 - val_accuracy: 0.7812\n",
      "Epoch 79/200\n",
      " - 0s - loss: 0.1240 - accuracy: 0.9449 - val_loss: 0.7099 - val_accuracy: 0.7812\n",
      "Epoch 80/200\n",
      " - 0s - loss: 0.0983 - accuracy: 0.9528 - val_loss: 0.6644 - val_accuracy: 0.7500\n",
      "Epoch 81/200\n",
      " - 0s - loss: 0.0903 - accuracy: 0.9764 - val_loss: 0.5317 - val_accuracy: 0.7812\n",
      "Epoch 82/200\n",
      " - 0s - loss: 0.0922 - accuracy: 0.9606 - val_loss: 0.5861 - val_accuracy: 0.7500\n",
      "Epoch 83/200\n",
      " - 0s - loss: 0.0956 - accuracy: 0.9685 - val_loss: 0.6771 - val_accuracy: 0.7812\n",
      "Epoch 84/200\n",
      " - 0s - loss: 0.0844 - accuracy: 0.9764 - val_loss: 0.5519 - val_accuracy: 0.7812\n",
      "Epoch 85/200\n",
      " - 0s - loss: 0.0917 - accuracy: 0.9528 - val_loss: 0.5692 - val_accuracy: 0.7812\n",
      "Epoch 86/200\n",
      " - 0s - loss: 0.0975 - accuracy: 0.9685 - val_loss: 0.7142 - val_accuracy: 0.7812\n",
      "Epoch 87/200\n",
      " - 0s - loss: 0.0947 - accuracy: 0.9528 - val_loss: 0.4928 - val_accuracy: 0.8125\n",
      "Epoch 88/200\n",
      " - 0s - loss: 0.0787 - accuracy: 0.9528 - val_loss: 0.6481 - val_accuracy: 0.7500\n",
      "Epoch 89/200\n",
      " - 0s - loss: 0.0820 - accuracy: 0.9764 - val_loss: 0.6833 - val_accuracy: 0.7500\n",
      "Epoch 90/200\n",
      " - 0s - loss: 0.0798 - accuracy: 0.9843 - val_loss: 0.5028 - val_accuracy: 0.7812\n",
      "Epoch 91/200\n",
      " - 0s - loss: 0.0789 - accuracy: 0.9764 - val_loss: 0.7024 - val_accuracy: 0.7500\n",
      "Epoch 92/200\n",
      " - 0s - loss: 0.0773 - accuracy: 0.9764 - val_loss: 0.6026 - val_accuracy: 0.7812\n",
      "Epoch 93/200\n",
      " - 0s - loss: 0.0782 - accuracy: 0.9685 - val_loss: 0.5600 - val_accuracy: 0.7812\n",
      "Epoch 94/200\n",
      " - 0s - loss: 0.0701 - accuracy: 0.9921 - val_loss: 0.6694 - val_accuracy: 0.7500\n",
      "Epoch 95/200\n",
      " - 0s - loss: 0.0688 - accuracy: 0.9921 - val_loss: 0.6251 - val_accuracy: 0.7812\n",
      "Epoch 96/200\n",
      " - 0s - loss: 0.0739 - accuracy: 0.9843 - val_loss: 0.5514 - val_accuracy: 0.8125\n",
      "Epoch 97/200\n",
      " - 0s - loss: 0.0687 - accuracy: 0.9921 - val_loss: 0.6414 - val_accuracy: 0.7812\n",
      "Epoch 98/200\n",
      " - 0s - loss: 0.0663 - accuracy: 0.9921 - val_loss: 0.6173 - val_accuracy: 0.7812\n",
      "Epoch 99/200\n",
      " - 0s - loss: 0.0715 - accuracy: 0.9764 - val_loss: 0.6174 - val_accuracy: 0.7812\n",
      "Epoch 100/200\n",
      " - 0s - loss: 0.0712 - accuracy: 0.9843 - val_loss: 0.7430 - val_accuracy: 0.7500\n",
      "Epoch 101/200\n",
      " - 0s - loss: 0.0645 - accuracy: 0.9921 - val_loss: 0.5209 - val_accuracy: 0.8125\n",
      "Epoch 102/200\n",
      " - 0s - loss: 0.0765 - accuracy: 0.9764 - val_loss: 0.7093 - val_accuracy: 0.7500\n",
      "Epoch 103/200\n",
      " - 0s - loss: 0.0649 - accuracy: 0.9921 - val_loss: 0.7047 - val_accuracy: 0.7500\n",
      "Epoch 104/200\n",
      " - 0s - loss: 0.0620 - accuracy: 0.9843 - val_loss: 0.5032 - val_accuracy: 0.8438\n",
      "Epoch 105/200\n",
      " - 0s - loss: 0.0700 - accuracy: 0.9764 - val_loss: 0.6634 - val_accuracy: 0.7812\n",
      "Epoch 106/200\n",
      " - 0s - loss: 0.0712 - accuracy: 0.9843 - val_loss: 0.6789 - val_accuracy: 0.7812\n",
      "Epoch 107/200\n",
      " - 0s - loss: 0.0575 - accuracy: 0.9921 - val_loss: 0.5469 - val_accuracy: 0.7812\n",
      "Epoch 108/200\n",
      " - 0s - loss: 0.0606 - accuracy: 0.9843 - val_loss: 0.7503 - val_accuracy: 0.7500\n",
      "Epoch 109/200\n",
      " - 0s - loss: 0.0577 - accuracy: 0.9921 - val_loss: 0.6633 - val_accuracy: 0.7812\n",
      "Epoch 110/200\n",
      " - 0s - loss: 0.0538 - accuracy: 0.9921 - val_loss: 0.6041 - val_accuracy: 0.7812\n",
      "Epoch 111/200\n",
      " - 0s - loss: 0.0539 - accuracy: 0.9921 - val_loss: 0.6375 - val_accuracy: 0.7812\n",
      "Epoch 112/200\n",
      " - 0s - loss: 0.0560 - accuracy: 0.9921 - val_loss: 0.6070 - val_accuracy: 0.7812\n",
      "Epoch 113/200\n",
      " - 0s - loss: 0.0530 - accuracy: 0.9921 - val_loss: 0.7008 - val_accuracy: 0.7812\n",
      "Epoch 114/200\n",
      " - 0s - loss: 0.0538 - accuracy: 0.9921 - val_loss: 0.6729 - val_accuracy: 0.7812\n",
      "Epoch 115/200\n",
      " - 0s - loss: 0.0569 - accuracy: 0.9764 - val_loss: 0.4991 - val_accuracy: 0.8125\n",
      "Epoch 116/200\n",
      " - 0s - loss: 0.0550 - accuracy: 0.9921 - val_loss: 0.7806 - val_accuracy: 0.7500\n",
      "Epoch 117/200\n",
      " - 0s - loss: 0.0509 - accuracy: 0.9921 - val_loss: 0.6430 - val_accuracy: 0.7812\n",
      "Epoch 118/200\n",
      " - 0s - loss: 0.0527 - accuracy: 0.9843 - val_loss: 0.6190 - val_accuracy: 0.7812\n",
      "Epoch 119/200\n",
      " - 0s - loss: 0.0561 - accuracy: 0.9843 - val_loss: 0.6244 - val_accuracy: 0.7812\n",
      "Epoch 120/200\n",
      " - 0s - loss: 0.0546 - accuracy: 0.9843 - val_loss: 0.8342 - val_accuracy: 0.7500\n",
      "Epoch 121/200\n",
      " - 0s - loss: 0.0643 - accuracy: 0.9764 - val_loss: 0.6147 - val_accuracy: 0.7812\n",
      "Epoch 122/200\n",
      " - 0s - loss: 0.0767 - accuracy: 0.9685 - val_loss: 0.5802 - val_accuracy: 0.8125\n",
      "Epoch 123/200\n",
      " - 0s - loss: 0.0602 - accuracy: 0.9843 - val_loss: 0.9589 - val_accuracy: 0.7500\n",
      "Epoch 124/200\n",
      " - 0s - loss: 0.0586 - accuracy: 0.9764 - val_loss: 0.4582 - val_accuracy: 0.8438\n",
      "Epoch 125/200\n",
      " - 0s - loss: 0.0665 - accuracy: 0.9843 - val_loss: 0.7460 - val_accuracy: 0.8125\n",
      "Epoch 126/200\n",
      " - 0s - loss: 0.0558 - accuracy: 0.9843 - val_loss: 0.7589 - val_accuracy: 0.7812\n",
      "Epoch 127/200\n",
      " - 0s - loss: 0.0454 - accuracy: 0.9921 - val_loss: 0.5623 - val_accuracy: 0.7812\n",
      "Epoch 128/200\n",
      " - 0s - loss: 0.0423 - accuracy: 0.9921 - val_loss: 0.7019 - val_accuracy: 0.8125\n",
      "Epoch 129/200\n",
      " - 0s - loss: 0.0471 - accuracy: 0.9843 - val_loss: 0.7140 - val_accuracy: 0.7812\n",
      "Epoch 130/200\n",
      " - 0s - loss: 0.0524 - accuracy: 0.9843 - val_loss: 0.5917 - val_accuracy: 0.7812\n",
      "Epoch 131/200\n",
      " - 0s - loss: 0.0499 - accuracy: 0.9921 - val_loss: 0.8332 - val_accuracy: 0.7812\n",
      "Epoch 132/200\n",
      " - 0s - loss: 0.0452 - accuracy: 0.9843 - val_loss: 0.5028 - val_accuracy: 0.8125\n",
      "Epoch 133/200\n",
      " - 0s - loss: 0.0503 - accuracy: 0.9843 - val_loss: 0.7608 - val_accuracy: 0.7812\n",
      "Epoch 134/200\n",
      " - 0s - loss: 0.0425 - accuracy: 0.9921 - val_loss: 0.6925 - val_accuracy: 0.7812\n",
      "Epoch 135/200\n",
      " - 0s - loss: 0.0421 - accuracy: 0.9921 - val_loss: 0.6280 - val_accuracy: 0.7812\n",
      "Epoch 136/200\n",
      " - 0s - loss: 0.0375 - accuracy: 0.9921 - val_loss: 0.7418 - val_accuracy: 0.7812\n",
      "Epoch 137/200\n",
      " - 0s - loss: 0.0445 - accuracy: 0.9843 - val_loss: 0.6385 - val_accuracy: 0.8125\n",
      "Epoch 138/200\n",
      " - 0s - loss: 0.0374 - accuracy: 0.9921 - val_loss: 0.7300 - val_accuracy: 0.8125\n",
      "Epoch 139/200\n",
      " - 0s - loss: 0.0399 - accuracy: 0.9921 - val_loss: 0.6845 - val_accuracy: 0.7812\n",
      "Epoch 140/200\n",
      " - 0s - loss: 0.0351 - accuracy: 0.9921 - val_loss: 0.7546 - val_accuracy: 0.7812\n",
      "Epoch 141/200\n",
      " - 0s - loss: 0.0681 - accuracy: 0.9764 - val_loss: 0.6184 - val_accuracy: 0.7812\n",
      "Epoch 142/200\n",
      " - 0s - loss: 0.0719 - accuracy: 0.9843 - val_loss: 0.7612 - val_accuracy: 0.8125\n",
      "Epoch 143/200\n",
      " - 0s - loss: 0.0349 - accuracy: 0.9921 - val_loss: 0.7563 - val_accuracy: 0.7812\n",
      "Epoch 144/200\n",
      " - 0s - loss: 0.0507 - accuracy: 0.9843 - val_loss: 0.6639 - val_accuracy: 0.7812\n",
      "Epoch 145/200\n",
      " - 0s - loss: 0.0459 - accuracy: 0.9843 - val_loss: 0.6416 - val_accuracy: 0.8125\n",
      "Epoch 146/200\n",
      " - 0s - loss: 0.0351 - accuracy: 0.9921 - val_loss: 0.7604 - val_accuracy: 0.7812\n",
      "Epoch 147/200\n",
      " - 0s - loss: 0.0580 - accuracy: 0.9843 - val_loss: 0.6371 - val_accuracy: 0.7812\n",
      "Epoch 148/200\n",
      " - 0s - loss: 0.0312 - accuracy: 0.9921 - val_loss: 0.6697 - val_accuracy: 0.8125\n",
      "Epoch 149/200\n",
      " - 0s - loss: 0.0601 - accuracy: 0.9843 - val_loss: 0.7897 - val_accuracy: 0.8125\n",
      "Epoch 150/200\n",
      " - 0s - loss: 0.0653 - accuracy: 0.9764 - val_loss: 0.5998 - val_accuracy: 0.8125\n",
      "Epoch 151/200\n",
      " - 0s - loss: 0.0719 - accuracy: 0.9764 - val_loss: 0.7308 - val_accuracy: 0.7812\n",
      "Epoch 152/200\n",
      " - 0s - loss: 0.0544 - accuracy: 0.9843 - val_loss: 0.6966 - val_accuracy: 0.8125\n",
      "Epoch 153/200\n",
      " - 0s - loss: 0.0434 - accuracy: 0.9843 - val_loss: 0.7211 - val_accuracy: 0.7812\n",
      "Epoch 154/200\n",
      " - 0s - loss: 0.0754 - accuracy: 0.9843 - val_loss: 0.6578 - val_accuracy: 0.8125\n",
      "Epoch 155/200\n",
      " - 0s - loss: 0.0556 - accuracy: 0.9843 - val_loss: 0.7371 - val_accuracy: 0.8125\n",
      "Epoch 156/200\n",
      " - 0s - loss: 0.0637 - accuracy: 0.9843 - val_loss: 0.6034 - val_accuracy: 0.8125\n",
      "Epoch 157/200\n",
      " - 0s - loss: 0.0286 - accuracy: 0.9921 - val_loss: 0.7886 - val_accuracy: 0.7812\n",
      "Epoch 158/200\n",
      " - 0s - loss: 0.0398 - accuracy: 0.9843 - val_loss: 0.7085 - val_accuracy: 0.7812\n",
      "Epoch 159/200\n",
      " - 0s - loss: 0.0346 - accuracy: 0.9843 - val_loss: 0.5771 - val_accuracy: 0.8125\n",
      "Epoch 160/200\n",
      " - 0s - loss: 0.0550 - accuracy: 0.9764 - val_loss: 0.8430 - val_accuracy: 0.8125\n",
      "Epoch 161/200\n",
      " - 0s - loss: 0.0330 - accuracy: 0.9921 - val_loss: 0.4563 - val_accuracy: 0.8438\n",
      "Epoch 162/200\n",
      " - 0s - loss: 0.0777 - accuracy: 0.9685 - val_loss: 0.8206 - val_accuracy: 0.7812\n",
      "Epoch 163/200\n",
      " - 0s - loss: 0.0292 - accuracy: 0.9921 - val_loss: 0.7579 - val_accuracy: 0.8125\n",
      "Epoch 164/200\n",
      " - 0s - loss: 0.0691 - accuracy: 0.9843 - val_loss: 0.5903 - val_accuracy: 0.8125\n",
      "Epoch 165/200\n",
      " - 0s - loss: 0.0486 - accuracy: 0.9843 - val_loss: 0.7781 - val_accuracy: 0.7812\n",
      "Epoch 166/200\n",
      " - 0s - loss: 0.0632 - accuracy: 0.9764 - val_loss: 0.6849 - val_accuracy: 0.7812\n",
      "Epoch 167/200\n",
      " - 0s - loss: 0.0473 - accuracy: 0.9843 - val_loss: 0.6752 - val_accuracy: 0.8125\n",
      "Epoch 168/200\n",
      " - 0s - loss: 0.0234 - accuracy: 0.9921 - val_loss: 0.6236 - val_accuracy: 0.8125\n",
      "Epoch 169/200\n",
      " - 0s - loss: 0.0347 - accuracy: 0.9843 - val_loss: 0.6887 - val_accuracy: 0.8125\n",
      "Epoch 170/200\n",
      " - 0s - loss: 0.0255 - accuracy: 0.9921 - val_loss: 0.6707 - val_accuracy: 0.8125\n",
      "Epoch 171/200\n",
      " - 0s - loss: 0.0252 - accuracy: 0.9921 - val_loss: 0.5941 - val_accuracy: 0.8438\n",
      "Epoch 172/200\n",
      " - 0s - loss: 0.0258 - accuracy: 0.9921 - val_loss: 0.6745 - val_accuracy: 0.8125\n",
      "Epoch 173/200\n",
      " - 0s - loss: 0.0238 - accuracy: 1.0000 - val_loss: 0.7232 - val_accuracy: 0.8125\n",
      "Epoch 174/200\n",
      " - 0s - loss: 0.0240 - accuracy: 1.0000 - val_loss: 0.6084 - val_accuracy: 0.8438\n",
      "Epoch 175/200\n",
      " - 0s - loss: 0.0234 - accuracy: 0.9921 - val_loss: 0.6602 - val_accuracy: 0.8125\n",
      "Epoch 176/200\n",
      " - 0s - loss: 0.0238 - accuracy: 0.9921 - val_loss: 0.6699 - val_accuracy: 0.8125\n",
      "Epoch 177/200\n",
      " - 0s - loss: 0.0242 - accuracy: 0.9921 - val_loss: 0.7468 - val_accuracy: 0.8125\n",
      "Epoch 178/200\n",
      " - 0s - loss: 0.0221 - accuracy: 1.0000 - val_loss: 0.5891 - val_accuracy: 0.8438\n",
      "Epoch 179/200\n",
      " - 0s - loss: 0.0223 - accuracy: 0.9921 - val_loss: 0.6436 - val_accuracy: 0.8125\n",
      "Epoch 180/200\n",
      " - 0s - loss: 0.0212 - accuracy: 1.0000 - val_loss: 0.7333 - val_accuracy: 0.8125\n",
      "Epoch 181/200\n",
      " - 0s - loss: 0.0203 - accuracy: 1.0000 - val_loss: 0.6382 - val_accuracy: 0.8125\n",
      "Epoch 182/200\n",
      " - 0s - loss: 0.0206 - accuracy: 1.0000 - val_loss: 0.6523 - val_accuracy: 0.8125\n",
      "Epoch 183/200\n",
      " - 0s - loss: 0.0195 - accuracy: 1.0000 - val_loss: 0.7495 - val_accuracy: 0.8125\n",
      "Epoch 184/200\n",
      " - 0s - loss: 0.0193 - accuracy: 1.0000 - val_loss: 0.6064 - val_accuracy: 0.8438\n",
      "Epoch 185/200\n",
      " - 0s - loss: 0.0189 - accuracy: 1.0000 - val_loss: 0.6626 - val_accuracy: 0.8125\n",
      "Epoch 186/200\n",
      " - 0s - loss: 0.0181 - accuracy: 1.0000 - val_loss: 0.7016 - val_accuracy: 0.8438\n",
      "Epoch 187/200\n",
      " - 0s - loss: 0.0181 - accuracy: 1.0000 - val_loss: 0.6400 - val_accuracy: 0.8750\n",
      "Epoch 188/200\n",
      " - 0s - loss: 0.0182 - accuracy: 1.0000 - val_loss: 0.5831 - val_accuracy: 0.8438\n",
      "Epoch 189/200\n",
      " - 0s - loss: 0.0195 - accuracy: 1.0000 - val_loss: 0.8079 - val_accuracy: 0.8438\n",
      "Epoch 190/200\n",
      " - 0s - loss: 0.0180 - accuracy: 1.0000 - val_loss: 0.5993 - val_accuracy: 0.8438\n",
      "Epoch 191/200\n",
      " - 0s - loss: 0.0170 - accuracy: 1.0000 - val_loss: 0.5653 - val_accuracy: 0.8438\n",
      "Epoch 192/200\n",
      " - 0s - loss: 0.0161 - accuracy: 1.0000 - val_loss: 0.7751 - val_accuracy: 0.8438\n",
      "Epoch 193/200\n",
      " - 0s - loss: 0.0167 - accuracy: 1.0000 - val_loss: 0.6679 - val_accuracy: 0.8438\n",
      "Epoch 194/200\n",
      " - 0s - loss: 0.0157 - accuracy: 1.0000 - val_loss: 0.6663 - val_accuracy: 0.8438\n",
      "Epoch 195/200\n",
      " - 0s - loss: 0.0165 - accuracy: 1.0000 - val_loss: 0.6439 - val_accuracy: 0.8438\n",
      "Epoch 196/200\n",
      " - 0s - loss: 0.0180 - accuracy: 1.0000 - val_loss: 0.7739 - val_accuracy: 0.8438\n",
      "Epoch 197/200\n",
      " - 0s - loss: 0.0155 - accuracy: 1.0000 - val_loss: 0.5349 - val_accuracy: 0.8750\n",
      "Epoch 198/200\n",
      " - 0s - loss: 0.0157 - accuracy: 1.0000 - val_loss: 0.7001 - val_accuracy: 0.8438\n",
      "Epoch 199/200\n",
      " - 0s - loss: 0.0155 - accuracy: 1.0000 - val_loss: 0.8412 - val_accuracy: 0.8438\n",
      "Epoch 200/200\n",
      " - 0s - loss: 0.0138 - accuracy: 1.0000 - val_loss: 0.5890 - val_accuracy: 0.8750\n"
     ]
    },
    {
     "data": {
      "text/plain": [
       "<keras.callbacks.callbacks.History at 0x21a10654048>"
      ]
     },
     "execution_count": 82,
     "metadata": {},
     "output_type": "execute_result"
    }
   ],
   "source": [
    "model.fit(x_train,y_train,validation_data=(x_test,y_test),epochs=200,verbose=2)"
   ]
  },
  {
   "cell_type": "code",
   "execution_count": 83,
   "metadata": {},
   "outputs": [],
   "source": [
    "scores = model.evaluate(x_test,y_test,verbose=0)"
   ]
  },
  {
   "cell_type": "code",
   "execution_count": 85,
   "metadata": {},
   "outputs": [
    {
     "name": "stdout",
     "output_type": "stream",
     "text": [
      "Accuracy:87.5% \n",
      " Error:0.125\n"
     ]
    }
   ],
   "source": [
    "print('Accuracy:{}% \\n Error:{}'.format(scores[1]*100,1-scores[1]))"
   ]
  }
 ],
 "metadata": {
  "kernelspec": {
   "display_name": "Python 3",
   "language": "python",
   "name": "python3"
  },
  "language_info": {
   "codemirror_mode": {
    "name": "ipython",
    "version": 3
   },
   "file_extension": ".py",
   "mimetype": "text/x-python",
   "name": "python",
   "nbconvert_exporter": "python",
   "pygments_lexer": "ipython3",
   "version": "3.7.7"
  }
 },
 "nbformat": 4,
 "nbformat_minor": 4
}
